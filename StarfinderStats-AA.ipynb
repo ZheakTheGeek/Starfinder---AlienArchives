{
 "cells": [
  {
   "cell_type": "markdown",
   "id": "processed-latitude",
   "metadata": {},
   "source": [
    "Just a basic CSV data cleaning project"
   ]
  },
  {
   "cell_type": "code",
   "execution_count": 176,
   "id": "approximate-routine",
   "metadata": {},
   "outputs": [
    {
     "data": {
      "text/plain": [
       "0      n\n",
       "1      n\n",
       "2      n\n",
       "3      n\n",
       "4      n\n",
       "      ..\n",
       "429    n\n",
       "430    y\n",
       "431    n\n",
       "432    n\n",
       "433    y\n",
       "Name: lower_super, Length: 434, dtype: object"
      ]
     },
     "execution_count": 176,
     "metadata": {},
     "output_type": "execute_result"
    }
   ],
   "source": [
    "import pandas as pd\n",
    "import numpy as np\n",
    "import matplotlib.pyplot as plt\n",
    "\n",
    "df = pd.read_csv('Starfinder Alien Archives - Sheet1.csv')\n",
    "df.shape\n",
    "df.CR.value_counts\n",
    "df['lower_super'] = list(map(lambda x: x.lower(), df[Supernatural]))\n",
    "#df['CR'] = df['CR'].str.lower()\n",
    "#df['CR'] = df['CR'].str.strip()\n",
    "#df['CR'] = np.where(.5, .5, df.CR)\n",
    "#df['CR'] = np.where(1/3, .33, df.CR)\n",
    "#df[\"CR\"] = df[\"CR\"].astype(int)\n",
    "\n",
    "CR = df.CR.unique()\n",
    "CR\n",
    "df.lower_super"
   ]
  },
  {
   "cell_type": "code",
   "execution_count": 169,
   "id": "romantic-trout",
   "metadata": {},
   "outputs": [
    {
     "name": "stdout",
     "output_type": "stream",
     "text": [
      "[7, 23, 30, 33, 37, 29, 32, 32, 29, 27, 25, 24, 19, 21, 15, 15, 8, 8, 8, 4, 5, 2, 1]\n"
     ]
    }
   ],
   "source": [
    "CR_count = []\n",
    "pie_angles =[]\n",
    "explode_values = []\n",
    "\n",
    "\n",
    "def get_total(inlist, outlist):\n",
    "    for i in inlist:\n",
    "        outlist.append((df['CR'] == i).sum())\n",
    "get_total(CR,CR_count)\n",
    "\n",
    "\n",
    "def get_angles(inlist):\n",
    "    outlist = []\n",
    "    for i in inlist:\n",
    "        outlist.append((i/sum(inlist))*360)\n",
    "    return outlist\n",
    "\n",
    "\n",
    "def get_explode(inlist):\n",
    "    explode_values = []\n",
    "    for i in inlist:\n",
    "        explode_values.append(0)\n",
    "    return explode_values\n",
    "        \n",
    "pie_angles = get_angles(CR_count)\n",
    "explode_values = get_explode(CR_count)\n",
    "print(CR_count)\n"
   ]
  },
  {
   "cell_type": "code",
   "execution_count": 170,
   "id": "formal-sense",
   "metadata": {},
   "outputs": [
    {
     "data": {
      "text/plain": [
       "Text(0.5, 1.0, 'CR Distribution')"
      ]
     },
     "execution_count": 170,
     "metadata": {},
     "output_type": "execute_result"
    },
    {
     "data": {
      "image/png": "[encoded data removed]",
      "text/plain": [
       "<Figure size 432x288 with 1 Axes>"
      ]
     },
     "metadata": {
      "needs_background": "light"
     },
     "output_type": "display_data"
    }
   ],
   "source": [
    "plt.hist(df.CR, edgecolor='black',bins = 26)\n",
    "plt.xlabel('Challenge Rating')\n",
    "plt.ylabel('# of Monsters')\n",
    "plt.title('CR Distribution')\n"
   ]
  },
  {
   "cell_type": "code",
   "execution_count": 171,
   "id": "outstanding-jungle",
   "metadata": {},
   "outputs": [
    {
     "data": {
      "text/plain": [
       "{'whiskers': [<matplotlib.lines.Line2D at 0x1fca66f7f40>,\n",
       "  <matplotlib.lines.Line2D at 0x1fca6706310>],\n",
       " 'caps': [<matplotlib.lines.Line2D at 0x1fca67066a0>,\n",
       "  <matplotlib.lines.Line2D at 0x1fca6706a30>],\n",
       " 'boxes': [<matplotlib.lines.Line2D at 0x1fca66f7c10>],\n",
       " 'medians': [<matplotlib.lines.Line2D at 0x1fca6706dc0>],\n",
       " 'fliers': [<matplotlib.lines.Line2D at 0x1fca6714190>],\n",
       " 'means': []}"
      ]
     },
     "execution_count": 171,
     "metadata": {},
     "output_type": "execute_result"
    },
    {
     "data": {
      "image/png": "[encoded data removed]",
      "text/plain": [
       "<Figure size 432x288 with 1 Axes>"
      ]
     },
     "metadata": {
      "needs_background": "light"
     },
     "output_type": "display_data"
    }
   ],
   "source": [
    "plt.boxplot(df.CR)"
   ]
  },
  {
   "cell_type": "code",
   "execution_count": 172,
   "id": "palestinian-thomas",
   "metadata": {},
   "outputs": [
    {
     "data": {
      "text/plain": [
       "(array([185.,  74.,  30.,  63.,  16.,  18.,  12.,  12.,  12.,  12.]),\n",
       " array([  0. ,  11.9,  23.8,  35.7,  47.6,  59.5,  71.4,  83.3,  95.2,\n",
       "        107.1, 119. ]),\n",
       " <BarContainer object of 10 artists>)"
      ]
     },
     "execution_count": 172,
     "metadata": {},
     "output_type": "execute_result"
    },
    {
     "data": {
      "image/png": "[encoded data removed]",
      "text/plain": [
       "<Figure size 432x288 with 1 Axes>"
      ]
     },
     "metadata": {
      "needs_background": "light"
     },
     "output_type": "display_data"
    }
   ],
   "source": [
    "plt.hist(df.Organization, color = 'yellow', edgecolor='black')"
   ]
  },
  {
   "cell_type": "code",
   "execution_count": 177,
   "id": "western-business",
   "metadata": {},
   "outputs": [
    {
     "data": {
      "text/plain": [
       "Text(0.5, 1.0, 'Supernatural Distribution')"
      ]
     },
     "execution_count": 177,
     "metadata": {},
     "output_type": "execute_result"
    },
    {
     "data": {
      "image/png": "[encoded data removed]",
      "text/plain": [
       "<Figure size 432x288 with 1 Axes>"
      ]
     },
     "metadata": {
      "needs_background": "light"
     },
     "output_type": "display_data"
    }
   ],
   "source": [
    "Supernatural = 'Supernatural?'\n",
    "plt.hist(df['lower_super'],edgecolor = 'black')\n",
    "#df.hist(grid=False, bins=9)\n",
    "plt.xlabel('Supernatural?')\n",
    "plt.ylabel('# of Monsters')\n",
    "plt.title('Supernatural Distribution')"
   ]
  },
  {
   "cell_type": "code",
   "execution_count": null,
   "id": "happy-prophet",
   "metadata": {},
   "outputs": [],
   "source": []
  },
  {
   "cell_type": "code",
   "execution_count": null,
   "id": "resistant-operation",
   "metadata": {},
   "outputs": [],
   "source": []
  },
  {
   "cell_type": "code",
   "execution_count": null,
   "id": "crucial-pickup",
   "metadata": {},
   "outputs": [],
   "source": []
  },
  {
   "cell_type": "code",
   "execution_count": null,
   "id": "sporting-pacific",
   "metadata": {},
   "outputs": [],
   "source": []
  },
  {
   "cell_type": "code",
   "execution_count": null,
   "id": "architectural-miniature",
   "metadata": {},
   "outputs": [],
   "source": []
  }
 ],
 "metadata": {
  "kernelspec": {
   "display_name": "Python 3",
   "language": "python",
   "name": "python3"
  },
  "language_info": {
   "codemirror_mode": {
    "name": "ipython",
    "version": 3
   },
   "file_extension": ".py",
   "mimetype": "text/x-python",
   "name": "python",
   "nbconvert_exporter": "python",
   "pygments_lexer": "ipython3",
   "version": "3.9.2"
  }
 },
 "nbformat": 4,
 "nbformat_minor": 5
}
